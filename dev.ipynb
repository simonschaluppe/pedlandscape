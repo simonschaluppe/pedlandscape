{
 "cells": [
  {
   "cell_type": "code",
   "execution_count": 1,
   "metadata": {},
   "outputs": [
    {
     "name": "stdout",
     "output_type": "stream",
     "text": [
      "pygame 2.5.2 (SDL 2.28.3, Python 3.11.4)\n",
      "Hello from the pygame community. https://www.pygame.org/contribute.html\n",
      "Non-image file assets\\img\\Process+Methods\\Other in category=WindowsPath('assets/img/Process+Methods')\n"
     ]
    },
    {
     "data": {
      "text/plain": [
       "61"
      ]
     },
     "execution_count": 1,
     "metadata": {},
     "output_type": "execute_result"
    }
   ],
   "source": [
    "from app import get_landscape_assets\n",
    "\n",
    "landscape = get_landscape_assets()\n",
    "\n",
    "sum(len(l) for l in landscape.values())\n"
   ]
  },
  {
   "cell_type": "code",
   "execution_count": 2,
   "metadata": {},
   "outputs": [
    {
     "data": {
      "text/plain": [
       "{'Affordability': {'path': 'assets/img/Economic/Affordability.png',\n",
       "  'category': 'Economic'},\n",
       " 'Business Models': {'path': 'assets/img/Economic/Business Models.png',\n",
       "  'category': 'Economic'},\n",
       " 'Circular Economy': {'path': 'assets/img/Economic/Circular Economy.png',\n",
       "  'category': 'Economic'},\n",
       " 'Cost Analysis': {'path': 'assets/img/Economic/Cost Analysis.png',\n",
       "  'category': 'Economic'},\n",
       " 'Financial Strategies': {'path': 'assets/img/Economic/Financial Strategies.png',\n",
       "  'category': 'Economic'},\n",
       " 'Incentives': {'path': 'assets/img/Economic/Incentives.png',\n",
       "  'category': 'Economic'},\n",
       " 'Marketplace': {'path': 'assets/img/Economic/Marketplace.png',\n",
       "  'category': 'Economic'},\n",
       " 'Ownership Structures': {'path': 'assets/img/Economic/Ownership Structures.png',\n",
       "  'category': 'Economic'},\n",
       " 'Simulation': {'path': 'assets/img/Process+Methods/Simulation.png',\n",
       "  'category': 'Process+Methods'},\n",
       " 'Support and Information': {'path': 'assets/img/Economic/Support and Information.png',\n",
       "  'category': 'Economic'},\n",
       " 'Circularity': {'path': 'assets/img/Environmental/Circularity.png',\n",
       "  'category': 'Environmental'},\n",
       " 'Climate Adaptation': {'path': 'assets/img/Environmental/Climate Adaptation.png',\n",
       "  'category': 'Environmental'},\n",
       " 'Embodied Energy': {'path': 'assets/img/Environmental/Embodied Energy.png',\n",
       "  'category': 'Environmental'},\n",
       " 'Energy Efficiency': {'path': 'assets/img/Environmental/Energy Efficiency.png',\n",
       "  'category': 'Environmental'},\n",
       " 'GHG Emissions': {'path': 'assets/img/Environmental/GHG Emissions.png',\n",
       "  'category': 'Environmental'},\n",
       " 'Landscape': {'path': 'assets/img/Environmental/Landscape.png',\n",
       "  'category': 'Environmental'},\n",
       " 'PE Balance': {'path': 'assets/img/Environmental/PE Balance.png',\n",
       "  'category': 'Environmental'},\n",
       " 'Resilience': {'path': 'assets/img/Environmental/Resilience.png',\n",
       "  'category': 'Environmental'},\n",
       " 'Resource Efficiency': {'path': 'assets/img/Environmental/Resource Efficiency.png',\n",
       "  'category': 'Environmental'},\n",
       " 'District Regulation': {'path': 'assets/img/Legal/District Regulation.png',\n",
       "  'category': 'Legal'},\n",
       " 'Energy Communities': {'path': 'assets/img/Legal/Energy Communities.png',\n",
       "  'category': 'Legal'},\n",
       " 'Energy Market': {'path': 'assets/img/Legal/Energy Market.png',\n",
       "  'category': 'Legal'},\n",
       " 'Innovative Institutional Change': {'path': 'assets/img/Legal/Innovative Institutional Change.png',\n",
       "  'category': 'Legal'},\n",
       " 'Multi-level Legislation': {'path': 'assets/img/Legal/Multi-level Legislation.png',\n",
       "  'category': 'Legal'},\n",
       " 'Participative Instruments': {'path': 'assets/img/Legal/Participative Instruments.png',\n",
       "  'category': 'Legal'},\n",
       " 'Urban Landuse': {'path': 'assets/img/Legal/Urban Landuse.png',\n",
       "  'category': 'Legal'},\n",
       " 'City Missions': {'path': 'assets/img/Political/City Missions.png',\n",
       "  'category': 'Political'},\n",
       " 'Decision Support Tools': {'path': 'assets/img/Political/Decision Support Tools.png',\n",
       "  'category': 'Political'},\n",
       " 'Distributive Implications': {'path': 'assets/img/Political/Distributive Implications.png',\n",
       "  'category': 'Political'},\n",
       " 'Governance Structure': {'path': 'assets/img/Political/Governance Structure.png',\n",
       "  'category': 'Political'},\n",
       " 'Political Engagement': {'path': 'assets/img/Political/Political Engagement.png',\n",
       "  'category': 'Political'},\n",
       " 'Power Analysis': {'path': 'assets/img/Political/Power Analysis.png',\n",
       "  'category': 'Political'},\n",
       " 'Regulation and Subsidies': {'path': 'assets/img/Political/Regulation and Subsidies.png',\n",
       "  'category': 'Political'},\n",
       " 'Co-Creation': {'path': 'assets/img/Process+Methods/Co-Creation.png',\n",
       "  'category': 'Process+Methods'},\n",
       " 'Modeling Tools': {'path': 'assets/img/Process+Methods/Modeling Tools.png',\n",
       "  'category': 'Process+Methods'},\n",
       " 'Monitoring': {'path': 'assets/img/Process+Methods/Monitoring.png',\n",
       "  'category': 'Process+Methods'},\n",
       " 'Scalability': {'path': 'assets/img/Process+Methods/Scalability.png',\n",
       "  'category': 'Process+Methods'},\n",
       " 'Behavioural Change': {'path': 'assets/img/Social/Behavioural Change.png',\n",
       "  'category': 'Social'},\n",
       " 'Community Engagement': {'path': 'assets/img/Social/Community Engagement.png',\n",
       "  'category': 'Social'},\n",
       " 'Cultural Context': {'path': 'assets/img/Social/Cultural Context.png',\n",
       "  'category': 'Social'},\n",
       " 'Everyday Practices': {'path': 'assets/img/Social/Everyday Practices.png',\n",
       "  'category': 'Social'},\n",
       " 'Heritage': {'path': 'assets/img/Social/Heritage.png', 'category': 'Social'},\n",
       " 'Narrative': {'path': 'assets/img/Social/Narrative.png',\n",
       "  'category': 'Social'},\n",
       " 'Policy': {'path': 'assets/img/Social/Policy.png', 'category': 'Social'},\n",
       " 'Social Innovation': {'path': 'assets/img/Social/Social Innovation.png',\n",
       "  'category': 'Social'},\n",
       " 'Social Justice': {'path': 'assets/img/Social/Social Justice.png',\n",
       "  'category': 'Social'},\n",
       " 'Wellbeing': {'path': 'assets/img/Social/Wellbeing.png',\n",
       "  'category': 'Social'},\n",
       " 'District_neighbourhoods typologies': {'path': 'assets/img/Spatial/District_neighbourhoods typologies.png',\n",
       "  'category': 'Spatial'},\n",
       " 'Governance Framework': {'path': 'assets/img/Spatial/Governance Framework.png',\n",
       "  'category': 'Spatial'},\n",
       " 'infstrastructure': {'path': 'assets/img/Spatial/infstrastructure.png',\n",
       "  'category': 'Spatial'},\n",
       " 'Mobility': {'path': 'assets/img/Spatial/Mobility.png',\n",
       "  'category': 'Spatial'},\n",
       " 'PED boundaries': {'path': 'assets/img/Spatial/PED boundaries.png',\n",
       "  'category': 'Spatial'},\n",
       " 'scalability': {'path': 'assets/img/Spatial/scalability.png',\n",
       "  'category': 'Spatial'},\n",
       " 'Strategic planning': {'path': 'assets/img/Spatial/Strategic planning.png',\n",
       "  'category': 'Spatial'},\n",
       " 'Urban planning tools': {'path': 'assets/img/Spatial/Urban planning tools.png',\n",
       "  'category': 'Spatial'},\n",
       " 'Demand-Supply Balance': {'path': 'assets/img/Technological/Demand-Supply Balance.png',\n",
       "  'category': 'Technological'},\n",
       " 'Energy Savings': {'path': 'assets/img/Technological/Energy Savings.png',\n",
       "  'category': 'Technological'},\n",
       " 'Local Renewable Production': {'path': 'assets/img/Technological/Local Renewable Production.png',\n",
       "  'category': 'Technological'},\n",
       " 'Multi-Commodity ES': {'path': 'assets/img/Technological/Multi-Commodity ES.png',\n",
       "  'category': 'Technological'},\n",
       " 'Storage': {'path': 'assets/img/Technological/Storage.png',\n",
       "  'category': 'Technological'}}"
      ]
     },
     "execution_count": 2,
     "metadata": {},
     "output_type": "execute_result"
    }
   ],
   "source": [
    "import deengi\n",
    "\n",
    "def flatten(landscape):\n",
    "    flat = {}\n",
    "    for cat, dictionary in landscape.items():\n",
    "        for key, value in dictionary.items():\n",
    "            flat[key] = {\"path\": value, \"category\": cat}\n",
    "            \n",
    "    return flat\n",
    "\n",
    "landscape = flatten(landscape)\n",
    "landscape"
   ]
  },
  {
   "cell_type": "code",
   "execution_count": 3,
   "metadata": {},
   "outputs": [
    {
     "data": {
      "text/plain": [
       "[(5, 0), (3, 4), (-2, 4), (-5, 0), (-3, -4), (2, -4), (5, 0)]"
      ]
     },
     "execution_count": 3,
     "metadata": {},
     "output_type": "execute_result"
    },
    {
     "data": {
      "image/png": "[encoded data removed]",
      "text/plain": [
       "<Figure size 640x480 with 1 Axes>"
      ]
     },
     "metadata": {},
     "output_type": "display_data"
    }
   ],
   "source": [
    "\n",
    "def get_orbit_points(distance, n, center=(0,0)):\n",
    "    import numpy as np\n",
    "    import math\n",
    "    cx, cy = center\n",
    "    pos = [((round(distance*math.cos(x)+cx), round(distance*math.sin(x)+cy))) for x in np.linspace(0,2*np.pi, n+1)]\n",
    "    return pos\n",
    "\n",
    "pos = get_orbit_points(5, 6)\n",
    "x = [x[0] for x in pos]\n",
    "y = [x[1] for x in pos]\n",
    "import matplotlib.pyplot as plt\n",
    "plt.plot(x,y)\n",
    "plt\n",
    "pos"
   ]
  },
  {
   "cell_type": "code",
   "execution_count": 4,
   "metadata": {},
   "outputs": [
    {
     "data": {
      "text/plain": [
       "['Affordability',\n",
       " 'Business Models',\n",
       " 'Circular Economy',\n",
       " 'Cost Analysis',\n",
       " 'Financial Strategies',\n",
       " 'Incentives',\n",
       " 'Marketplace',\n",
       " 'Ownership Structures',\n",
       " 'Simulation',\n",
       " 'Support and Information',\n",
       " 'Circularity',\n",
       " 'Climate Adaptation',\n",
       " 'Embodied Energy',\n",
       " 'Energy Efficiency',\n",
       " 'GHG Emissions',\n",
       " 'Landscape',\n",
       " 'PE Balance',\n",
       " 'Resilience',\n",
       " 'Resource Efficiency',\n",
       " 'District Regulation',\n",
       " 'Energy Communities',\n",
       " 'Energy Market',\n",
       " 'Innovative Institutional Change',\n",
       " 'Multi-level Legislation',\n",
       " 'Participative Instruments',\n",
       " 'Urban Landuse',\n",
       " 'City Missions',\n",
       " 'Decision Support Tools',\n",
       " 'Distributive Implications',\n",
       " 'Governance Structure',\n",
       " 'Political Engagement',\n",
       " 'Power Analysis',\n",
       " 'Regulation and Subsidies',\n",
       " 'Co-Creation',\n",
       " 'Modeling Tools',\n",
       " 'Monitoring',\n",
       " 'Scalability',\n",
       " 'Behavioural Change',\n",
       " 'Community Engagement',\n",
       " 'Cultural Context',\n",
       " 'Everyday Practices',\n",
       " 'Heritage',\n",
       " 'Narrative',\n",
       " 'Policy',\n",
       " 'Social Innovation',\n",
       " 'Social Justice',\n",
       " 'Wellbeing',\n",
       " 'District_neighbourhoods typologies',\n",
       " 'Governance Framework',\n",
       " 'infstrastructure',\n",
       " 'Mobility',\n",
       " 'PED boundaries',\n",
       " 'scalability',\n",
       " 'Strategic planning',\n",
       " 'Urban planning tools',\n",
       " 'Demand-Supply Balance',\n",
       " 'Energy Savings',\n",
       " 'Local Renewable Production',\n",
       " 'Multi-Commodity ES',\n",
       " 'Storage']"
      ]
     },
     "execution_count": 4,
     "metadata": {},
     "output_type": "execute_result"
    }
   ],
   "source": [
    "list(landscape.keys())\n"
   ]
  },
  {
   "cell_type": "code",
   "execution_count": 5,
   "metadata": {},
   "outputs": [
    {
     "ename": "IndentationError",
     "evalue": "unexpected indent (2401720540.py, line 2)",
     "output_type": "error",
     "traceback": [
      "\u001b[1;36m  Cell \u001b[1;32mIn[5], line 2\u001b[1;36m\u001b[0m\n\u001b[1;33m    'Support and Information','Primary energy balance',\u001b[0m\n\u001b[1;37m    ^\u001b[0m\n\u001b[1;31mIndentationError\u001b[0m\u001b[1;31m:\u001b[0m unexpected indent\n"
     ]
    }
   ],
   "source": [
    "'Simulation',\n",
    " 'Support and Information','Primary energy balance',\n",
    " 'innovative institutional change',\n",
    " 'Decision-support Tools',\n",
    " 'Modeling Tools',\n",
    " 'Monitoring',\n",
    " 'Behavioural Change',"
   ]
  },
  {
   "cell_type": "code",
   "execution_count": null,
   "metadata": {},
   "outputs": [
    {
     "data": {
      "text/plain": [
       "array([-1,  0,  1])"
      ]
     },
     "execution_count": 5,
     "metadata": {},
     "output_type": "execute_result"
    }
   ],
   "source": [
    "import numpy as np\n",
    "np.arange(-1,2)\n"
   ]
  }
 ],
 "metadata": {
  "kernelspec": {
   "display_name": "base",
   "language": "python",
   "name": "python3"
  },
  "language_info": {
   "codemirror_mode": {
    "name": "ipython",
    "version": 3
   },
   "file_extension": ".py",
   "mimetype": "text/x-python",
   "name": "python",
   "nbconvert_exporter": "python",
   "pygments_lexer": "ipython3",
   "version": "3.11.4"
  }
 },
 "nbformat": 4,
 "nbformat_minor": 2
}
