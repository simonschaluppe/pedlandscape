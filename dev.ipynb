{
 "cells": [
  {
   "cell_type": "code",
   "execution_count": 53,
   "metadata": {},
   "outputs": [],
   "source": [
    "from ped_landscape import Landscape\n",
    "\n"
   ]
  },
  {
   "cell_type": "code",
   "execution_count": 54,
   "metadata": {},
   "outputs": [
    {
     "name": "stdout",
     "output_type": "stream",
     "text": [
      "The autoreload extension is already loaded. To reload it, use:\n",
      "  %reload_ext autoreload\n"
     ]
    }
   ],
   "source": [
    "%load_ext autoreload\n",
    "%autoreload 2\n",
    "import pandas as pd\n",
    "from parse import extract_projects_for_visualization\n",
    "df = pd.read_excel(\"results2.xlsx\")\n",
    "p = extract_projects_for_visualization(df)"
   ]
  },
  {
   "cell_type": "code",
   "execution_count": 55,
   "metadata": {},
   "outputs": [
    {
     "data": {
      "text/plain": [
       "dict_keys(['Marketplace', 'Financial Strategies', 'Circular Economy', 'Cost Analysis', 'Affordability', 'Support and Information', 'Ownership Structures', 'Incentives', 'Business Models', 'Multi-level Legislation', 'Urban Landuse', 'District Regulation', 'Participative Instruments', 'Energy Communities', 'Energy Market', 'Innovative Institutional Change', 'Community Engagement', 'Narrative', 'Everyday Consumption & Production Practices', 'Wellbeing', 'Behavioural Change', 'Social Justice', 'Social Innovation', 'Cultural Context', 'Heritage', 'Policy', 'Urban planning tools', 'District typologies', 'Mobility', 'PED boundaries', 'Strategic planning', 'Governance Framework', 'Co-Creation', 'Simulation', 'Monitoring', 'Modeling Tools', 'Scalability', 'Circularity', 'Climate Adaptation', 'Energy Efficiency', 'Embodied energy', 'GHG Emissions', 'Landscape', 'Resource Efficiency', 'PE Balance', 'Resilience', 'City Missions', 'Decision Support Tools', 'Political Engagement', 'Power Analysis', 'Governance Structure', 'Distributive Implications', 'Regulation and Subsidies', 'Local Renewable Production', 'Demand-Supply Balance', 'Energy Savings', 'Storage', 'Infrastructure', 'Multi-Commodity ES'])"
      ]
     },
     "execution_count": 55,
     "metadata": {},
     "output_type": "execute_result"
    }
   ],
   "source": [
    "p[2][\"keywords\"].keys()"
   ]
  },
  {
   "cell_type": "code",
   "execution_count": 56,
   "metadata": {},
   "outputs": [
    {
     "data": {
      "text/html": [
       "<div>\n",
       "<style scoped>\n",
       "    .dataframe tbody tr th:only-of-type {\n",
       "        vertical-align: middle;\n",
       "    }\n",
       "\n",
       "    .dataframe tbody tr th {\n",
       "        vertical-align: top;\n",
       "    }\n",
       "\n",
       "    .dataframe thead th {\n",
       "        text-align: right;\n",
       "    }\n",
       "</style>\n",
       "<table border=\"1\" class=\"dataframe\">\n",
       "  <thead>\n",
       "    <tr style=\"text-align: right;\">\n",
       "      <th></th>\n",
       "      <th>Response ID</th>\n",
       "      <th>1</th>\n",
       "      <th>2</th>\n",
       "      <th>4</th>\n",
       "      <th>10</th>\n",
       "      <th>11</th>\n",
       "      <th>17</th>\n",
       "      <th>18</th>\n",
       "      <th>29</th>\n",
       "    </tr>\n",
       "  </thead>\n",
       "  <tbody>\n",
       "    <tr>\n",
       "      <th>0</th>\n",
       "      <td>Date submitted</td>\n",
       "      <td>2025-03-12 09:00:30</td>\n",
       "      <td>2025-03-17 18:52:08</td>\n",
       "      <td>2025-03-20 14:31:38</td>\n",
       "      <td>1980-01-01 00:00:00</td>\n",
       "      <td>1980-01-01 00:00:00</td>\n",
       "      <td>1980-01-01 00:00:00</td>\n",
       "      <td>1980-01-01 00:00:00</td>\n",
       "      <td>1980-01-01 00:00:00</td>\n",
       "    </tr>\n",
       "    <tr>\n",
       "      <th>1</th>\n",
       "      <td>Last page</td>\n",
       "      <td>11</td>\n",
       "      <td>11</td>\n",
       "      <td>11</td>\n",
       "      <td>11</td>\n",
       "      <td>11</td>\n",
       "      <td>11</td>\n",
       "      <td>11</td>\n",
       "      <td>11</td>\n",
       "    </tr>\n",
       "    <tr>\n",
       "      <th>2</th>\n",
       "      <td>Start language</td>\n",
       "      <td>en</td>\n",
       "      <td>en</td>\n",
       "      <td>en</td>\n",
       "      <td>en</td>\n",
       "      <td>en</td>\n",
       "      <td>en</td>\n",
       "      <td>en</td>\n",
       "      <td>en</td>\n",
       "    </tr>\n",
       "    <tr>\n",
       "      <th>3</th>\n",
       "      <td>Seed</td>\n",
       "      <td>1974936967</td>\n",
       "      <td>466345074</td>\n",
       "      <td>421354583</td>\n",
       "      <td>1593263357</td>\n",
       "      <td>644478860</td>\n",
       "      <td>2040776747</td>\n",
       "      <td>2071707710</td>\n",
       "      <td>1377982420</td>\n",
       "    </tr>\n",
       "    <tr>\n",
       "      <th>4</th>\n",
       "      <td>Date started</td>\n",
       "      <td>2025-03-12 08:09:49</td>\n",
       "      <td>2025-03-17 18:34:04</td>\n",
       "      <td>2025-03-20 14:15:16</td>\n",
       "      <td>NaN</td>\n",
       "      <td>NaN</td>\n",
       "      <td>NaN</td>\n",
       "      <td>NaN</td>\n",
       "      <td>NaN</td>\n",
       "    </tr>\n",
       "  </tbody>\n",
       "</table>\n",
       "</div>"
      ],
      "text/plain": [
       "      Response ID                    1                    2  \\\n",
       "0  Date submitted  2025-03-12 09:00:30  2025-03-17 18:52:08   \n",
       "1       Last page                   11                   11   \n",
       "2  Start language                   en                   en   \n",
       "3            Seed           1974936967            466345074   \n",
       "4    Date started  2025-03-12 08:09:49  2025-03-17 18:34:04   \n",
       "\n",
       "                     4                   10                   11  \\\n",
       "0  2025-03-20 14:31:38  1980-01-01 00:00:00  1980-01-01 00:00:00   \n",
       "1                   11                   11                   11   \n",
       "2                   en                   en                   en   \n",
       "3            421354583           1593263357            644478860   \n",
       "4  2025-03-20 14:15:16                  NaN                  NaN   \n",
       "\n",
       "                    17                   18                   29  \n",
       "0  1980-01-01 00:00:00  1980-01-01 00:00:00  1980-01-01 00:00:00  \n",
       "1                   11                   11                   11  \n",
       "2                   en                   en                   en  \n",
       "3           2040776747           2071707710           1377982420  \n",
       "4                  NaN                  NaN                  NaN  "
      ]
     },
     "execution_count": 56,
     "metadata": {},
     "output_type": "execute_result"
    }
   ],
   "source": [
    "df.head()"
   ]
  },
  {
   "cell_type": "code",
   "execution_count": 57,
   "metadata": {},
   "outputs": [
    {
     "data": {
      "text/plain": [
       "{'Marketplace': {'category': 'Economic', 'present': False},\n",
       " 'Financial Strategies': {'category': 'Economic', 'present': False},\n",
       " 'Circular Economy': {'category': 'Economic', 'present': False},\n",
       " 'Cost Analysis': {'category': 'Economic', 'present': False},\n",
       " 'Affordability': {'category': 'Economic', 'present': False},\n",
       " 'Support and Information': {'category': 'Economic', 'present': False},\n",
       " 'Ownership Structures': {'category': 'Economic', 'present': False},\n",
       " 'Incentives': {'category': 'Economic', 'present': False},\n",
       " 'Business Models': {'category': 'Economic', 'present': False},\n",
       " 'Multi-level Legislation': {'category': 'Legal', 'present': False},\n",
       " 'Urban Landuse': {'category': 'Legal', 'present': False},\n",
       " 'District Regulation': {'category': 'Legal', 'present': False},\n",
       " 'Participative Instruments': {'category': 'Legal', 'present': False},\n",
       " 'Energy Communities': {'category': 'Legal', 'present': False},\n",
       " 'Energy Market': {'category': 'Legal', 'present': False},\n",
       " 'Innovative Institutional Change': {'category': 'Legal', 'present': False},\n",
       " 'Community Engagement': {'category': 'Social', 'present': False},\n",
       " 'Narrative': {'category': 'Social', 'present': False},\n",
       " 'Everyday Consumption & Production Practices': {'category': 'Social',\n",
       "  'present': False},\n",
       " 'Wellbeing': {'category': 'Social', 'present': False},\n",
       " 'Behavioural Change': {'category': 'Social', 'present': False},\n",
       " 'Social Justice': {'category': 'Social', 'present': False},\n",
       " 'Social Innovation': {'category': 'Social', 'present': False},\n",
       " 'Cultural ontext': {'category': 'Social', 'present': False},\n",
       " 'Heritage': {'category': 'Social', 'present': False},\n",
       " 'Urban planning tools': {'category': 'Spatial', 'present': False},\n",
       " 'District typologies': {'category': 'Spatial', 'present': False},\n",
       " 'Mobility': {'category': 'Spatial', 'present': False},\n",
       " 'PED boundaries': {'category': 'Spatial', 'present': True},\n",
       " 'Strategic planning': {'category': 'Spatial', 'present': False},\n",
       " 'Governance Framework': {'category': 'Spatial', 'present': False},\n",
       " 'Co-Creation': {'category': 'Processes & methods', 'present': False},\n",
       " 'Simulation': {'category': 'Processes & methods', 'present': False},\n",
       " 'Monitoring': {'category': 'Processes & methods', 'present': False},\n",
       " 'Modeling Tools': {'category': 'Processes & methods', 'present': False},\n",
       " 'Scalability': {'category': 'Processes & methods', 'present': False},\n",
       " 'Circularity': {'category': 'Environmental', 'present': False},\n",
       " 'Climate Adaptation': {'category': 'Environmental', 'present': False},\n",
       " 'Energy Efficiency': {'category': 'Environmental', 'present': False},\n",
       " 'Embodied energy': {'category': 'Environmental', 'present': False},\n",
       " 'GHG Emissions': {'category': 'Environmental', 'present': False},\n",
       " 'Landscape': {'category': 'Environmental', 'present': False},\n",
       " 'Resource Efficiency': {'category': 'Environmental', 'present': False},\n",
       " 'PE Balance': {'category': 'Environmental', 'present': False},\n",
       " 'Resilience': {'category': 'Environmental', 'present': False},\n",
       " 'City Missions': {'category': 'Political', 'present': False},\n",
       " 'Decision Support Tools': {'category': 'Political', 'present': False},\n",
       " 'Political Engagement': {'category': 'Political', 'present': False},\n",
       " 'Power Analysis': {'category': 'Political', 'present': False},\n",
       " 'Governance Structure': {'category': 'Political', 'present': False},\n",
       " 'Distributive Implications': {'category': 'Political', 'present': False},\n",
       " 'Regulation and Subsidies': {'category': 'Political', 'present': False},\n",
       " 'Local Renewable Production': {'category': 'Technological', 'present': False},\n",
       " 'Demand-Supply Balance': {'category': 'Technological', 'present': False},\n",
       " 'Energy Savings': {'category': 'Technological', 'present': False},\n",
       " 'Storage': {'category': 'Technological', 'present': False},\n",
       " 'Infstrastructure': {'category': 'Technological', 'present': False},\n",
       " 'Multi-Commodity ES': {'category': 'Technological', 'present': False}}"
      ]
     },
     "execution_count": 57,
     "metadata": {},
     "output_type": "execute_result"
    }
   ],
   "source": [
    "p[4][\"deliverables\"][0][\"keywords\"]"
   ]
  }
 ],
 "metadata": {
  "kernelspec": {
   "display_name": "base",
   "language": "python",
   "name": "python3"
  },
  "language_info": {
   "codemirror_mode": {
    "name": "ipython",
    "version": 3
   },
   "file_extension": ".py",
   "mimetype": "text/x-python",
   "name": "python",
   "nbconvert_exporter": "python",
   "pygments_lexer": "ipython3",
   "version": "3.11.4"
  }
 },
 "nbformat": 4,
 "nbformat_minor": 2
}
